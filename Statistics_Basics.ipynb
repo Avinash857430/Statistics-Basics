{
  "nbformat": 4,
  "nbformat_minor": 0,
  "metadata": {
    "colab": {
      "provenance": []
    },
    "kernelspec": {
      "name": "python3",
      "display_name": "Python 3"
    },
    "language_info": {
      "name": "python"
    }
  },
  "cells": [
    {
      "cell_type": "code",
      "execution_count": null,
      "metadata": {
        "id": "cKQkOwtAvU-D"
      },
      "outputs": [],
      "source": []
    },
    {
      "cell_type": "markdown",
      "source": [],
      "metadata": {
        "id": "Wu_bbKdownmr"
      }
    },
    {
      "cell_type": "markdown",
      "source": [
        "1. What is statistics, and why is it important?\n",
        "    Statistics is the science of collecting, organizing, analyzing, interpreting, and presenting data. It helps in making informed decisions based on data patterns, trends, and probabilities in various fields like business, health, government, and research.\n",
        "\n",
        "2. What are the two main types of statistics?\n",
        "    The two main types are:\n",
        "    1. Descriptive Statistics\n",
        "    2. Inferential Statistics\n",
        "\n",
        "3. What are descriptive statistics?\n",
        "    Descriptive statistics summarize and describe the main features of a dataset using measures such as mean, median, mode, standard deviation, and range.\n",
        "\n",
        "4. What is inferential statistics?\n",
        "    Inferential statistics use a sample of data to make generalizations or predictions about a population using techniques like hypothesis testing, confidence intervals, and regression.\n",
        "\n",
        "5. What is sampling in statistics?\n",
        "    Sampling is the process of selecting a subset of individuals from a population to estimate characteristics of the whole population.\n",
        "\n",
        "6. What are the different types of sampling methods?\n",
        "    Types of sampling methods:\n",
        "    1. Random sampling\n",
        "    2. Systematic sampling\n",
        "    3. Stratified sampling\n",
        "    4. Cluster sampling\n",
        "    5. Convenience sampling\n",
        "    6. Purposive/Judgmental sampling\n",
        "\n",
        "7. What is the difference between random and non-random sampling?\n",
        "    - Random Sampling: Every individual has an equal chance of being selected.\n",
        "    - Non-Random Sampling: Selection is based on researcher judgment or convenience, not chance.\n",
        "\n",
        "8. Define and give examples of qualitative and quantitative data.\n",
        "    - Qualitative Data: Categorical data like gender, color, or brand.\n",
        "    - Quantitative Data: Numerical data like height, weight, or marks.\n",
        "\n",
        "9. What are the different types of data in statistics?\n",
        "    - Qualitative (Categorical)\n",
        "    - Quantitative (Numerical)\n",
        "        - Discrete\n",
        "        - Continuous\n",
        "\n",
        "10. Explain nominal, ordinal, interval, and ratio levels of measurement.\n",
        "    - Nominal: Categories without order (e.g., gender).\n",
        "    - Ordinal: Categories with order (e.g., ranking).\n",
        "    - Interval: Numeric, no true zero (e.g., temperature in Celsius).\n",
        "    - Ratio: Numeric with a true zero (e.g., weight, height).\n",
        "\n",
        "11. What is the measure of central tendency?\n",
        "    Measures that represent the center or average of a dataset. Includes mean, median, and mode.\n",
        "\n",
        "12. Define mean, median, and mode.\n",
        "    - Mean: Average of all values.\n",
        "    - Median: Middle value when data is sorted.\n",
        "    - Mode: Most frequent value.\n",
        "\n",
        "13. What is the significance of the measure of central tendency?\n",
        "    It provides a single value to describe the center of a dataset, helping in comparing and summarizing data.\n",
        "\n",
        "14. What is variance, and how is it calculated?\n",
        "    Variance measures the spread of data points around the mean.  \n",
        "    Formula:  \n",
        "    Variance = Σ(x - mean)² / n\n",
        "\n",
        "15. What is standard deviation, and why is it important?\n",
        "    Standard deviation is the square root of variance. It shows how much data deviates from the mean, helping understand data consistency.\n",
        "\n",
        "16. Define and explain the term range in statistics.\n",
        "    Range = Maximum value - Minimum value.  \n",
        "    It gives a basic measure of data spread.\n",
        "\n",
        "17. What is the difference between variance and standard deviation?\n",
        "    - Variance is in squared units; standard deviation is its square root and in original units.\n",
        "    - Standard deviation is more interpretable for real-world values.\n",
        "\n",
        "18. What is skewness in a dataset?\n",
        "    Skewness measures the asymmetry of the data distribution.\n",
        "\n",
        "19. What does it mean if a dataset is positively or negatively skewed?\n",
        "    - Positively Skewed: Tail on the right; mean > median.\n",
        "    - Negatively Skewed: Tail on the left; mean < median.\n",
        "\n",
        "20. Define and explain kurtosis.\n",
        "    Kurtosis measures the \"tailedness\" of a distribution.  \n",
        "    - High kurtosis: More outliers (peaky).\n",
        "    - Low kurtosis: Fewer outliers (flat).\n",
        "\n",
        "21. What is the purpose of covariance?\n",
        "    Covariance shows how two variables change together. Positive means they increase together; negative means they move oppositely.\n",
        "\n",
        "22. What does correlation measure in statistics?\n",
        "    Correlation measures the strength and direction of a linear relationship between two variables, typically between -1 and +1.\n",
        "\n",
        "23. What is the difference between covariance and correlation?\n",
        "    - Covariance shows direction but not strength.\n",
        "    - Correlation standardizes covariance to show both direction and strength.\n",
        "\n",
        "24. What are some real-world applications of statistics?\n",
        "    - Business: Market trends, sales forecasting.\n",
        "    - Healthcare: Clinical trials, disease prediction.\n",
        "    - Sports: Player performance analysis.\n",
        "    - Government: Census, policy-making.\n",
        "    - Education: Test score analysis.\n"
      ],
      "metadata": {
        "id": "ctiTlI7ew8KJ"
      }
    },
    {
      "cell_type": "code",
      "source": [],
      "metadata": {
        "id": "ZYIJshXR9b8C"
      },
      "execution_count": null,
      "outputs": []
    },
    {
      "cell_type": "markdown",
      "source": [
        "#Practical part"
      ],
      "metadata": {
        "id": "l6i1HXGq9eXy"
      }
    },
    {
      "cell_type": "markdown",
      "source": [
        "How do you calculate the mean, median, and mode of a dataset\u001d"
      ],
      "metadata": {
        "id": "LrwY-W3-94yW"
      }
    },
    {
      "cell_type": "code",
      "source": [
        "import statistics as stats\n",
        "\n",
        "data = [10, 20, 20, 40, 50]\n",
        "print(\"Mean:\", stats.mean(data))\n",
        "print(\"Median:\", stats.median(data))\n",
        "print(\"Mode:\", stats.mode(data))"
      ],
      "metadata": {
        "colab": {
          "base_uri": "https://localhost:8080/"
        },
        "id": "TJdA_HWB98VT",
        "outputId": "5fcbeef9-bcf2-4104-b757-6b536e2d4d41"
      },
      "execution_count": 1,
      "outputs": [
        {
          "output_type": "stream",
          "name": "stdout",
          "text": [
            "Mean: 28\n",
            "Median: 20\n",
            "Mode: 20\n"
          ]
        }
      ]
    },
    {
      "cell_type": "markdown",
      "source": [
        "Write a Python program to compute the variance and standard deviation of a dataset5"
      ],
      "metadata": {
        "id": "lrKkmK5g-Cvz"
      }
    },
    {
      "cell_type": "code",
      "source": [
        "print(\"Variance:\", stats.variance(data))\n",
        "print(\"Standard Deviation:\", stats.stdev(data))"
      ],
      "metadata": {
        "colab": {
          "base_uri": "https://localhost:8080/"
        },
        "id": "xaJnMM23-F9s",
        "outputId": "eb4cdf8b-f200-4d91-f13f-4fdb276e7d62"
      },
      "execution_count": 2,
      "outputs": [
        {
          "output_type": "stream",
          "name": "stdout",
          "text": [
            "Variance: 270\n",
            "Standard Deviation: 16.431676725154983\n"
          ]
        }
      ]
    },
    {
      "cell_type": "markdown",
      "source": [
        "Create a dataset and classify it into nominal, ordinal, interval, and ratio types5"
      ],
      "metadata": {
        "id": "NOLeRJvw-KtR"
      }
    },
    {
      "cell_type": "code",
      "source": [
        "3.\n",
        "dataset = {\n",
        "    \"Nominal\": [\"Red\", \"Green\", \"Blue\"],\n",
        "    \"Ordinal\": [\"Poor\", \"Average\", \"Good\"],\n",
        "    \"Interval\": [20, 25, 30],  # e.g., temperature\n",
        "    \"Ratio\": [10, 20, 40]      # e.g., weight or height\n",
        "}\n",
        "for key, value in dataset.items():\n",
        "    print(f\"{key} data: {value}\")\n"
      ],
      "metadata": {
        "colab": {
          "base_uri": "https://localhost:8080/"
        },
        "id": "SCRo_Z7y-gyV",
        "outputId": "aea50556-2cf0-46e3-c8ce-4cf83a8d28fe"
      },
      "execution_count": 3,
      "outputs": [
        {
          "output_type": "stream",
          "name": "stdout",
          "text": [
            "Nominal data: ['Red', 'Green', 'Blue']\n",
            "Ordinal data: ['Poor', 'Average', 'Good']\n",
            "Interval data: [20, 25, 30]\n",
            "Ratio data: [10, 20, 40]\n"
          ]
        }
      ]
    },
    {
      "cell_type": "code",
      "source": [
        "4.\n",
        "import random\n",
        "import pandas as pd\n",
        "\n",
        "population = list(range(1, 101))\n",
        "random_sample = random.sample(population, 10)\n",
        "print(\"Random Sample:\", random_sample)\n",
        "\n",
        "df = pd.DataFrame({\n",
        "    'Gender': ['M', 'F']*10,\n",
        "    'Score': random.sample(range(50, 100), 20)\n",
        "})\n",
        "strata = df.groupby('Gender', group_keys=False).apply(lambda x: x.sample(2))\n",
        "print(\"Stratified Sample:\\n\", strata)\n"
      ],
      "metadata": {
        "colab": {
          "base_uri": "https://localhost:8080/"
        },
        "id": "zhkHOSSL-kjL",
        "outputId": "0b919bef-e93f-424e-a910-bcdfd6428c08"
      },
      "execution_count": 4,
      "outputs": [
        {
          "output_type": "stream",
          "name": "stdout",
          "text": [
            "Random Sample: [6, 28, 73, 34, 81, 52, 59, 78, 27, 22]\n",
            "Stratified Sample:\n",
            "    Gender  Score\n",
            "13      F     54\n",
            "11      F     75\n",
            "12      M     70\n",
            "18      M     79\n"
          ]
        },
        {
          "output_type": "stream",
          "name": "stderr",
          "text": [
            "/tmp/ipython-input-4-3507311674.py:13: DeprecationWarning: DataFrameGroupBy.apply operated on the grouping columns. This behavior is deprecated, and in a future version of pandas the grouping columns will be excluded from the operation. Either pass `include_groups=False` to exclude the groupings or explicitly select the grouping columns after groupby to silence this warning.\n",
            "  strata = df.groupby('Gender', group_keys=False).apply(lambda x: x.sample(2))\n"
          ]
        }
      ]
    },
    {
      "cell_type": "code",
      "source": [
        "5.\n",
        "def calculate_range(data):\n",
        "    return max(data) - min(data)\n",
        "\n",
        "print(\"Range:\", calculate_range(data))\n"
      ],
      "metadata": {
        "colab": {
          "base_uri": "https://localhost:8080/"
        },
        "id": "KOndSz72-oH6",
        "outputId": "50896c2c-7309-4964-baab-b7e367fe638d"
      },
      "execution_count": 5,
      "outputs": [
        {
          "output_type": "stream",
          "name": "stdout",
          "text": [
            "Range: 40\n"
          ]
        }
      ]
    },
    {
      "cell_type": "code",
      "source": [
        "6.\n",
        "import matplotlib.pyplot as plt\n",
        "\n",
        "data = [10, 12, 14, 18, 25, 30, 32, 40, 45, 90]\n",
        "plt.hist(data, bins=8, color='skyblue', edgecolor='black')\n",
        "plt.title(\"Histogram\")\n",
        "plt.xlabel(\"Values\")\n",
        "plt.ylabel(\"Frequency\")\n",
        "plt.show()\n"
      ],
      "metadata": {
        "colab": {
          "base_uri": "https://localhost:8080/",
          "height": 472
        },
        "id": "FhS0K0MF-qn9",
        "outputId": "b8b75020-9c71-43a3-fe43-136f2b96c563"
      },
      "execution_count": 6,
      "outputs": [
        {
          "output_type": "display_data",
          "data": {
            "text/plain": [
              "<Figure size 640x480 with 1 Axes>"
            ],
            "image/png": "[encoded data removed]"
          },
          "metadata": {}
        }
      ]
    },
    {
      "cell_type": "code",
      "source": [
        "7.\n",
        "from scipy.stats import skew, kurtosis\n",
        "\n",
        "print(\"Skewness:\", skew(data))\n",
        "print(\"Kurtosis:\", kurtosis(data))\n"
      ],
      "metadata": {
        "colab": {
          "base_uri": "https://localhost:8080/"
        },
        "id": "RpADlTH1-sdK",
        "outputId": "7ff57136-381a-4fee-ad68-7fdfd1d3863c"
      },
      "execution_count": 7,
      "outputs": [
        {
          "output_type": "stream",
          "name": "stdout",
          "text": [
            "Skewness: 1.5524912937836342\n",
            "Kurtosis: 1.7661628263891958\n"
          ]
        }
      ]
    },
    {
      "cell_type": "code",
      "source": [
        "8.\n",
        "import numpy as np\n",
        "\n",
        "pos_skew = [1, 2, 3, 4, 5, 6, 7, 100]\n",
        "neg_skew = [100, 95, 90, 85, 80, 75, 50]\n",
        "\n",
        "print(\"Positive Skewness:\", skew(pos_skew))\n",
        "print(\"Negative Skewness:\", skew(neg_skew))\n"
      ],
      "metadata": {
        "colab": {
          "base_uri": "https://localhost:8080/"
        },
        "id": "9MVAy3_N-vlL",
        "outputId": "6f744e64-5ae2-4767-98b8-a3c5922a1b6b"
      },
      "execution_count": 8,
      "outputs": [
        {
          "output_type": "stream",
          "name": "stdout",
          "text": [
            "Positive Skewness: 2.252109793440743\n",
            "Negative Skewness: -1.003456261041206\n"
          ]
        }
      ]
    },
    {
      "cell_type": "code",
      "source": [
        "9.\n",
        "x = [2, 4, 6, 8]\n",
        "y = [1, 3, 2, 5]\n",
        "\n",
        "cov_matrix = np.cov(x, y)\n",
        "print(\"Covariance:\", cov_matrix[0][1])\n"
      ],
      "metadata": {
        "colab": {
          "base_uri": "https://localhost:8080/"
        },
        "id": "XUZrFmOX-x6q",
        "outputId": "7d4d6b1e-521e-488f-bb75-82f8b8378762"
      },
      "execution_count": 9,
      "outputs": [
        {
          "output_type": "stream",
          "name": "stdout",
          "text": [
            "Covariance: 3.6666666666666665\n"
          ]
        }
      ]
    },
    {
      "cell_type": "code",
      "source": [
        "10.\n",
        "corr_matrix = np.corrcoef(x, y)\n",
        "print(\"Correlation Coefficient:\", corr_matrix[0][1])\n"
      ],
      "metadata": {
        "colab": {
          "base_uri": "https://localhost:8080/"
        },
        "id": "1Rtr-XxH-3e0",
        "outputId": "f7cf5012-d7e3-4951-8215-5baa2dba3f43"
      },
      "execution_count": 10,
      "outputs": [
        {
          "output_type": "stream",
          "name": "stdout",
          "text": [
            "Correlation Coefficient: 0.8315218406202999\n"
          ]
        }
      ]
    },
    {
      "cell_type": "code",
      "source": [
        "11.\n",
        "import matplotlib.pyplot as plt\n",
        "\n",
        "plt.scatter(x, y, color='green')\n",
        "plt.title(\"Scatter Plot of x vs y\")\n",
        "plt.xlabel(\"x\")\n",
        "plt.ylabel(\"y\")\n",
        "plt.grid(True)\n",
        "plt.show()\n"
      ],
      "metadata": {
        "colab": {
          "base_uri": "https://localhost:8080/",
          "height": 472
        },
        "id": "ST7q5vBr-5zV",
        "outputId": "022ec797-a00f-462d-c0f9-8d07e71b8ac3"
      },
      "execution_count": 11,
      "outputs": [
        {
          "output_type": "display_data",
          "data": {
            "text/plain": [
              "<Figure size 640x480 with 1 Axes>"
            ],
            "image/png": "[encoded data removed]"
          },
          "metadata": {}
        }
      ]
    },
    {
      "cell_type": "code",
      "source": [
        "12.\n",
        "# Simple Random Sampling\n",
        "simple_sample = random.sample(population, 10)\n",
        "print(\"Simple Random Sample:\", simple_sample)\n",
        "\n",
        "# Systematic Sampling\n",
        "k = 10  # every 10th element\n",
        "systematic_sample = population[::k]\n",
        "print(\"Systematic Sample:\", systematic_sample)\n"
      ],
      "metadata": {
        "colab": {
          "base_uri": "https://localhost:8080/"
        },
        "id": "ZT9x2qgY-7JF",
        "outputId": "c48c8d79-4fc2-456a-bb77-1fd334b573bc"
      },
      "execution_count": 12,
      "outputs": [
        {
          "output_type": "stream",
          "name": "stdout",
          "text": [
            "Simple Random Sample: [13, 18, 73, 7, 63, 40, 80, 51, 22, 53]\n",
            "Systematic Sample: [1, 11, 21, 31, 41, 51, 61, 71, 81, 91]\n"
          ]
        }
      ]
    },
    {
      "cell_type": "code",
      "source": [
        "13.\n",
        "grouped_data = {\n",
        "    \"Class Interval\": [\"0-10\", \"10-20\", \"20-30\"],\n",
        "    \"Frequency\": [5, 8, 7]\n",
        "}\n",
        "\n",
        "midpoints = [5, 15, 25]\n",
        "frequencies = [5, 8, 7]\n",
        "\n",
        "total_freq = sum(frequencies)\n",
        "mean = sum([m*f for m, f in zip(midpoints, frequencies)]) / total_freq\n",
        "print(\"Grouped Mean:\", mean)\n"
      ],
      "metadata": {
        "colab": {
          "base_uri": "https://localhost:8080/"
        },
        "id": "u1o-GDvp--CH",
        "outputId": "626eaa04-44c4-495e-ff37-6c42f6867464"
      },
      "execution_count": 13,
      "outputs": [
        {
          "output_type": "stream",
          "name": "stdout",
          "text": [
            "Grouped Mean: 16.0\n"
          ]
        }
      ]
    },
    {
      "cell_type": "code",
      "source": [
        "14.\n",
        "np.random.seed(0)\n",
        "simulated_data = np.random.normal(loc=50, scale=10, size=100)\n",
        "\n",
        "print(\"Mean:\", np.mean(simulated_data))\n",
        "print(\"Median:\", np.median(simulated_data))\n",
        "print(\"Std Deviation:\", np.std(simulated_data))\n",
        "print(\"Variance:\", np.var(simulated_data))\n"
      ],
      "metadata": {
        "colab": {
          "base_uri": "https://localhost:8080/"
        },
        "id": "EN3ILUy_-_Vr",
        "outputId": "56fe7600-986c-462a-b0de-5fcd46e128ef"
      },
      "execution_count": 14,
      "outputs": [
        {
          "output_type": "stream",
          "name": "stdout",
          "text": [
            "Mean: 50.59808015534484\n",
            "Median: 50.94096119437998\n",
            "Std Deviation: 10.078822447165797\n",
            "Variance: 101.58266192149313\n"
          ]
        }
      ]
    },
    {
      "cell_type": "code",
      "source": [
        "15.\n",
        "import pandas as pd\n",
        "import numpy as np\n",
        "\n",
        "data = np.random.randint(10, 100, 20)\n",
        "df = pd.DataFrame({'Values': data})\n",
        "print(df.describe())\n"
      ],
      "metadata": {
        "colab": {
          "base_uri": "https://localhost:8080/"
        },
        "id": "kqUKEziu_C0F",
        "outputId": "a89c90e3-4c8e-43f8-8fa4-efbfba2fe6e2"
      },
      "execution_count": 15,
      "outputs": [
        {
          "output_type": "stream",
          "name": "stdout",
          "text": [
            "          Values\n",
            "count  20.000000\n",
            "mean   54.950000\n",
            "std    26.603274\n",
            "min    11.000000\n",
            "25%    34.000000\n",
            "50%    50.500000\n",
            "75%    80.250000\n",
            "max    98.000000\n"
          ]
        }
      ]
    },
    {
      "cell_type": "code",
      "source": [
        "16.\n",
        "import matplotlib.pyplot as plt\n",
        "\n",
        "plt.boxplot(df['Values'])\n",
        "plt.title(\"Boxplot\")\n",
        "plt.ylabel(\"Values\")\n",
        "plt.grid(True)\n",
        "plt.show()\n"
      ],
      "metadata": {
        "colab": {
          "base_uri": "https://localhost:8080/",
          "height": 452
        },
        "id": "2Do6B88g_SZt",
        "outputId": "8d8eb287-199c-4cc0-bac3-97a1fc9c0923"
      },
      "execution_count": 16,
      "outputs": [
        {
          "output_type": "display_data",
          "data": {
            "text/plain": [
              "<Figure size 640x480 with 1 Axes>"
            ],
            "image/png": "[encoded data removed]"
          },
          "metadata": {}
        }
      ]
    },
    {
      "cell_type": "code",
      "source": [
        "17.\n",
        "Q1 = df['Values'].quantile(0.25)\n",
        "Q3 = df['Values'].quantile(0.75)\n",
        "IQR = Q3 - Q1\n",
        "print(\"IQR (Interquartile Range):\", IQR)\n"
      ],
      "metadata": {
        "colab": {
          "base_uri": "https://localhost:8080/"
        },
        "id": "l7PmUTyv_Uws",
        "outputId": "60cc5aee-c290-431e-81dc-418adb95279c"
      },
      "execution_count": 17,
      "outputs": [
        {
          "output_type": "stream",
          "name": "stdout",
          "text": [
            "IQR (Interquartile Range): 46.25\n"
          ]
        }
      ]
    },
    {
      "cell_type": "code",
      "source": [
        "18.\n",
        "from scipy.stats import zscore\n",
        "\n",
        "df['Z-Score'] = zscore(df['Values'])\n",
        "print(df)\n",
        "\n",
        "# Z-score normalization standardizes the dataset: mean = 0, std = 1\n"
      ],
      "metadata": {
        "colab": {
          "base_uri": "https://localhost:8080/"
        },
        "id": "BMiCaBv1_Wzn",
        "outputId": "187b80f9-3a19-4dc7-9eea-34f830a0eb25"
      },
      "execution_count": 18,
      "outputs": [
        {
          "output_type": "stream",
          "name": "stdout",
          "text": [
            "    Values   Z-Score\n",
            "0       42 -0.499428\n",
            "1       80  0.966075\n",
            "2       95  1.544563\n",
            "3       41 -0.537994\n",
            "4       23 -1.232179\n",
            "5       81  1.004641\n",
            "6       66  0.426153\n",
            "7       34 -0.807955\n",
            "8       89  1.313168\n",
            "9       51 -0.152335\n",
            "10      28 -1.039350\n",
            "11      50 -0.190901\n",
            "12      64  0.349021\n",
            "13      89  1.313168\n",
            "14      21 -1.309311\n",
            "15      48 -0.268033\n",
            "16      11 -1.694970\n",
            "17      54 -0.036638\n",
            "18      98  1.660261\n",
            "19      34 -0.807955\n"
          ]
        }
      ]
    },
    {
      "cell_type": "code",
      "source": [
        "19.\n",
        "data1 = np.random.normal(50, 5, 100)\n",
        "data2 = np.random.normal(50, 15, 100)\n",
        "\n",
        "std1 = np.std(data1)\n",
        "std2 = np.std(data2)\n",
        "\n",
        "print(\"Standard Deviation of Dataset 1:\", std1)\n",
        "print(\"Standard Deviation of Dataset 2:\", std2)\n"
      ],
      "metadata": {
        "colab": {
          "base_uri": "https://localhost:8080/"
        },
        "id": "bsx8OuwB_YcL",
        "outputId": "f19f411d-64cd-487d-9e24-b6843b80f503"
      },
      "execution_count": 19,
      "outputs": [
        {
          "output_type": "stream",
          "name": "stdout",
          "text": [
            "Standard Deviation of Dataset 1: 4.9743341641711645\n",
            "Standard Deviation of Dataset 2: 14.813585136167992\n"
          ]
        }
      ]
    },
    {
      "cell_type": "code",
      "source": [
        "20.\n",
        "import seaborn as sns\n",
        "import matplotlib.pyplot as plt\n",
        "\n",
        "df_cov = pd.DataFrame({\n",
        "    'X': np.random.randint(1, 100, 50),\n",
        "    'Y': np.random.randint(1, 100, 50),\n",
        "    'Z': np.random.randint(1, 100, 50)\n",
        "})\n",
        "\n",
        "cov_matrix = df_cov.cov()\n",
        "sns.heatmap(cov_matrix, annot=True, cmap=\"YlGnBu\")\n",
        "plt.title(\"Covariance Heatmap\")\n",
        "plt.show()\n"
      ],
      "metadata": {
        "colab": {
          "base_uri": "https://localhost:8080/",
          "height": 452
        },
        "id": "x2d7e6TO_bcP",
        "outputId": "2739800c-0801-4a3a-bc0c-bf0d6d69da7d"
      },
      "execution_count": 20,
      "outputs": [
        {
          "output_type": "display_data",
          "data": {
            "text/plain": [
              "<Figure size 640x480 with 2 Axes>"
            ],
            "image/png": "[encoded data removed]"
          },
          "metadata": {}
        }
      ]
    },
    {
      "cell_type": "code",
      "source": [
        "21.\n",
        "corr_matrix = df_cov.corr()\n",
        "sns.heatmap(corr_matrix, annot=True, cmap=\"coolwarm\")\n",
        "plt.title(\"Correlation Matrix\")\n",
        "plt.show()\n"
      ],
      "metadata": {
        "colab": {
          "base_uri": "https://localhost:8080/",
          "height": 452
        },
        "id": "wnNjVTK1_dhm",
        "outputId": "9ce69f16-f971-43e5-efd9-92bab085caa6"
      },
      "execution_count": 21,
      "outputs": [
        {
          "output_type": "display_data",
          "data": {
            "text/plain": [
              "<Figure size 640x480 with 2 Axes>"
            ],
            "image/png": "[encoded data removed]"
          },
          "metadata": {}
        }
      ]
    },
    {
      "cell_type": "code",
      "source": [
        "22.\n",
        "data = np.random.normal(60, 10, 100)\n",
        "\n",
        "variance = np.var(data)\n",
        "std_dev = np.std(data)\n",
        "\n",
        "print(\"Variance:\", variance)\n",
        "print(\"Standard Deviation:\", std_dev)\n"
      ],
      "metadata": {
        "colab": {
          "base_uri": "https://localhost:8080/"
        },
        "id": "SX6k5OY8_gHA",
        "outputId": "5802eaff-5729-40d4-8db9-3ed4ed4e99b2"
      },
      "execution_count": 22,
      "outputs": [
        {
          "output_type": "stream",
          "name": "stdout",
          "text": [
            "Variance: 103.92259858475497\n",
            "Standard Deviation: 10.19424340423334\n"
          ]
        }
      ]
    },
    {
      "cell_type": "code",
      "source": [
        "23.\n",
        "from scipy.stats import skew, kurtosis\n",
        "import seaborn as sns\n",
        "\n",
        "sns.histplot(data, kde=True, color=\"skyblue\")\n",
        "plt.title(\"Histogram with Skewness & Kurtosis\")\n",
        "\n",
        "print(\"Skewness:\", skew(data))\n",
        "print(\"Kurtosis:\", kurtosis(data))\n",
        "plt.show()\n"
      ],
      "metadata": {
        "colab": {
          "base_uri": "https://localhost:8080/",
          "height": 487
        },
        "id": "CYLJC0gQ_h05",
        "outputId": "848a735f-2c29-4f9e-f9b8-2449adc83f8e"
      },
      "execution_count": 23,
      "outputs": [
        {
          "output_type": "stream",
          "name": "stdout",
          "text": [
            "Skewness: -0.3349827458974373\n",
            "Kurtosis: 0.1063610839902922\n"
          ]
        },
        {
          "output_type": "display_data",
          "data": {
            "text/plain": [
              "<Figure size 640x480 with 1 Axes>"
            ],
            "image/png": "[encoded data removed]"
          },
          "metadata": {}
        }
      ]
    },
    {
      "cell_type": "code",
      "source": [
        "24.\n",
        "from scipy.stats import pearsonr, spearmanr\n",
        "\n",
        "x = np.random.randint(1, 100, 50)\n",
        "y = np.random.randint(1, 100, 50)\n",
        "\n",
        "pearson_corr, _ = pearsonr(x, y)\n",
        "spearman_corr, _ = spearmanr(x, y)\n",
        "\n",
        "print(\"Pearson Correlation:\", pearson_corr)\n",
        "print(\"Spearman Correlation:\", spearman_corr)\n"
      ],
      "metadata": {
        "colab": {
          "base_uri": "https://localhost:8080/"
        },
        "id": "AcbuEOTN_jx9",
        "outputId": "f48c6588-c147-408a-b178-5dec81265bf9"
      },
      "execution_count": 24,
      "outputs": [
        {
          "output_type": "stream",
          "name": "stdout",
          "text": [
            "Pearson Correlation: -0.000938435291433894\n",
            "Spearman Correlation: 0.026923077420914893\n"
          ]
        }
      ]
    }
  ]
}